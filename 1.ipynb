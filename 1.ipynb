{
 "cells": [
  {
   "cell_type": "code",
   "execution_count": 1,
   "metadata": {},
   "outputs": [],
   "source": [
    "import cv2 as cv\n",
    "import matplotlib.pyplot as plt\n",
    "import numpy as np"
   ]
  },
  {
   "cell_type": "code",
   "execution_count": 3,
   "metadata": {},
   "outputs": [],
   "source": [
    "img=[[50 for i in range(100)] for j in range(100)]\n"
   ]
  },
  {
   "cell_type": "code",
   "execution_count": 4,
   "metadata": {},
   "outputs": [],
   "source": [
    "ing=[[0,56,0],[0,255,0],[0,150,0]]   "
   ]
  },
  {
   "cell_type": "code",
   "execution_count": 5,
   "metadata": {},
   "outputs": [
    {
     "data": {
      "text/plain": [
       "<matplotlib.image.AxesImage at 0x18ab9243510>"
      ]
     },
     "execution_count": 5,
     "metadata": {},
     "output_type": "execute_result"
    },
    {
     "data": {
      "image/png": "[encoded data removed]",
      "text/plain": [
       "<Figure size 640x480 with 1 Axes>"
      ]
     },
     "metadata": {},
     "output_type": "display_data"
    }
   ],
   "source": [
    "plt.imshow(ing,cmap='gray')"
   ]
  },
  {
   "cell_type": "code",
   "execution_count": 6,
   "metadata": {},
   "outputs": [],
   "source": [
    "color_img=[[[255,0,0],[0,255,0],[0,0,255]],\n",
    "           [[255,0,0],[0,255,0],[0,0,255]],\n",
    "          [[255,0,0],[0,255,0],[0,0,255]]]\n",
    "img=np.array(color_img)"
   ]
  },
  {
   "cell_type": "code",
   "execution_count": null,
   "metadata": {},
   "outputs": [],
   "source": []
  },
  {
   "cell_type": "code",
   "execution_count": 7,
   "metadata": {},
   "outputs": [],
   "source": [
    "img=[]\n",
    "for i in range(16):\n",
    "    t=[]\n",
    "    for j in range(16):\n",
    "        t.append([255,0,0])\n",
    "    img.append(t)"
   ]
  },
  {
   "cell_type": "code",
   "execution_count": 8,
   "metadata": {},
   "outputs": [],
   "source": [
    "for i in range(16):\n",
    "    t=[]\n",
    "    for j in range(16):\n",
    "        t.append([0,255,0])\n",
    "    img.append(t)"
   ]
  },
  {
   "cell_type": "code",
   "execution_count": 9,
   "metadata": {},
   "outputs": [],
   "source": [
    "for i in range(16):\n",
    "    t=[]\n",
    "    for j in range(16):\n",
    "        t.append([0,0,255])\n",
    "    img.append(t)"
   ]
  },
  {
   "cell_type": "code",
   "execution_count": 10,
   "metadata": {},
   "outputs": [
    {
     "data": {
      "text/plain": [
       "<matplotlib.image.AxesImage at 0x18abc42f650>"
      ]
     },
     "execution_count": 10,
     "metadata": {},
     "output_type": "execute_result"
    },
    {
     "data": {
      "image/png": "[encoded data removed]",
      "text/plain": [
       "<Figure size 640x480 with 1 Axes>"
      ]
     },
     "metadata": {},
     "output_type": "display_data"
    }
   ],
   "source": [
    "plt.imshow(img)"
   ]
  },
  {
   "cell_type": "code",
   "execution_count": 11,
   "metadata": {},
   "outputs": [],
   "source": [
    "arr=np.array(img)"
   ]
  },
  {
   "cell_type": "code",
   "execution_count": 12,
   "metadata": {},
   "outputs": [
    {
     "ename": "error",
     "evalue": "OpenCV(4.8.0) D:/a/opencv-python/opencv-python/opencv/modules/highgui/src/precomp.hpp:155: error: (-215:Assertion failed) src_depth != CV_16F && src_depth != CV_32S in function 'convertToShow'\n",
     "output_type": "error",
     "traceback": [
      "\u001b[1;31m---------------------------------------------------------------------------\u001b[0m",
      "\u001b[1;31merror\u001b[0m                                     Traceback (most recent call last)",
      "Cell \u001b[1;32mIn[12], line 1\u001b[0m\n\u001b[1;32m----> 1\u001b[0m \u001b[43mcv\u001b[49m\u001b[38;5;241;43m.\u001b[39;49m\u001b[43mimshow\u001b[49m\u001b[43m(\u001b[49m\u001b[38;5;124;43m'\u001b[39;49m\u001b[38;5;124;43mimmf v, g\u001b[39;49m\u001b[38;5;124;43m'\u001b[39;49m\u001b[43m,\u001b[49m\u001b[43marr\u001b[49m\u001b[43m)\u001b[49m\n",
      "\u001b[1;31merror\u001b[0m: OpenCV(4.8.0) D:/a/opencv-python/opencv-python/opencv/modules/highgui/src/precomp.hpp:155: error: (-215:Assertion failed) src_depth != CV_16F && src_depth != CV_32S in function 'convertToShow'\n"
     ]
    }
   ],
   "source": [
    "cv.imshow('immf v, g',arr)"
   ]
  },
  {
   "cell_type": "code",
   "execution_count": null,
   "metadata": {},
   "outputs": [
    {
     "data": {
      "text/plain": [
       "True"
      ]
     },
     "execution_count": 56,
     "metadata": {},
     "output_type": "execute_result"
    },
    {
     "ename": "",
     "evalue": "",
     "output_type": "error",
     "traceback": [
      "\u001b[1;31mThe Kernel crashed while executing code in the the current cell or a previous cell. Please review the code in the cell(s) to identify a possible cause of the failure. Click <a href='https://aka.ms/vscodeJupyterKernelCrash'>here</a> for more info. View Jupyter <a href='command:jupyter.viewOutput'>log</a> for further details."
     ]
    }
   ],
   "source": [
    "cv.imwrite('colorimg.jpg',arr)"
   ]
  },
  {
   "cell_type": "code",
   "execution_count": 97,
   "metadata": {},
   "outputs": [],
   "source": [
    "cv.destroyAllWindows()"
   ]
  },
  {
   "cell_type": "code",
   "execution_count": 2,
   "metadata": {},
   "outputs": [],
   "source": [
    "def empty(a):\n",
    "    pass"
   ]
  },
  {
   "cell_type": "code",
   "execution_count": 11,
   "metadata": {},
   "outputs": [
    {
     "data": {
      "text/plain": [
       "119"
      ]
     },
     "execution_count": 11,
     "metadata": {},
     "output_type": "execute_result"
    }
   ],
   "source": [
    "cv.namedWindow('Trackbars')\n",
    "cv.resizeWindow('Trackbars',640,240)\n",
    "cv.createTrackbar('Hue Min','Trackbars',0,179,empty)\n",
    "cv.waitKey(0)"
   ]
  },
  {
   "cell_type": "code",
   "execution_count": 6,
   "metadata": {},
   "outputs": [],
   "source": [
    "cv.destroyAllWindows()"
   ]
  },
  {
   "cell_type": "code",
   "execution_count": 55,
   "metadata": {},
   "outputs": [],
   "source": [
    "# cam=cv.VideoCapture(\"laado.mp4\")\n",
    "c=15\n",
    "cam=cv.VideoCapture(0)\n",
    "cam.set(3,640)\n",
    "cam.set(4,480)\n",
    "\n",
    "h_min,h_max,s_min,s_max,v_min,v_max=0,179,0,255,0,255\n",
    "# cv.namedWindow('Trackbars')\n",
    "# cv.resizeWindow('Trackbars',640,240)\n",
    "# cv.createTrackbar('Hue Min','Trackbars',0,179,empty)\n",
    "# cv.createTrackbar('Hue Max','Trackbars',179,179,empty)\n",
    "# cv.createTrackbar('Sat Min','Trackbars',0,255,empty)\n",
    "# cv.createTrackbar('Sat Max','Trackbars',255,255,empty)\n",
    "# cv.createTrackbar('Val Min','Trackbars',0,255,empty)\n",
    "# cv.createTrackbar('Val Max','Trackbars',255,255,empty)\n",
    "\n",
    "result = cv.VideoWriter('filename1.avi',  \n",
    "                         cv.VideoWriter_fourcc(*'MJPG'), \n",
    "                         10, (640, 480)) \n",
    "while True:\n",
    "    bg=cv.imread('me16.jpg')\n",
    "    # bg=cv.cvtColor(bg,cv.COLOR_RGB2BGR)\n",
    "    #bg=bg[228:(228+480),92:(92+640),:]\n",
    "    # bg.resize((480,640,3))\n",
    "    # bg=cam1.read()[1]\n",
    "\n",
    "    frame=cam.read()[1]\n",
    "    # print(frame.shape)\n",
    "    #frame.resize((480,640,3))\n",
    "    # frame=frame[180:(180+480),92:(92+640),:]\n",
    "    #frame = cv.flip(frame,1)    \n",
    "    img=cv.cvtColor(frame,cv.COLOR_BGR2HSV)\n",
    "    #cv.rectangle(frame,(100,100),(200,200),(0,255,0),2)\n",
    "    \n",
    "    # h_min=cv.getTrackbarPos('Hue Min','Trackbars')\n",
    "    # h_max=cv.getTrackbarPos('Hue Max','Trackbars')\n",
    "    # s_min=cv.getTrackbarPos('Sat Min','Trackbars')\n",
    "    # s_max=cv.getTrackbarPos('Sat Max','Trackbars')\n",
    "    # v_min=cv.getTrackbarPos('Val Min','Trackbars')\n",
    "    # v_max=cv.getTrackbarPos('Val Max','Trackbars')\n",
    "    # lower=np.array([h_min,s_min,v_min])\n",
    "    # upper=np.array([h_max,s_max,v_max])\n",
    "    lower=np.array([0,0,52])\n",
    "    upper=np.array([25,255,255])\n",
    "    mask=cv.inRange(frame,lower,upper)\n",
    "    mask=cv.medianBlur(mask,5)  \n",
    "    mask=cv.dilate(mask,(5,5),iterations=2)\n",
    "    ex_img=cv.bitwise_and(bg,bg,mask=mask)\n",
    "    n_mask=cv.bitwise_not(mask)\n",
    "    ex_frame=cv.bitwise_and(frame,frame,mask=n_mask)\n",
    "    #ex_img=cv.GaussianBlur(ex_img,(7,7),0)\n",
    "   # mask=cv.inRange(frame,lower,upper)\n",
    "    \n",
    "    #edge=cv.Canny(ex_img,100,200)\n",
    "    \n",
    "    # cv.imshow('frame1',frame)\n",
    "    #cv.imshow('frame2',mask)\n",
    "    new_img=cv.add(ex_img,ex_frame)\n",
    "    # cv.imshow('frame3',bg)\n",
    "    cv.imshow('frame4',new_img)\n",
    "    result.write(new_img)\n",
    "    #cv.imshow('frame5',ex_img)\n",
    "    if(key==ord('f')):\n",
    "        c+=1\n",
    "        cv.imwrite(f'me{c}.jpg',frame)\n",
    "    \n",
    "    key=cv.waitKey(30)\n",
    "    if key==ord('q'):\n",
    "        break\n",
    "\n",
    "cam.release()\n",
    "#cam1.release()\n",
    "\n",
    "cv.destroyAllWindows()\n",
    "    "
   ]
  },
  {
   "cell_type": "code",
   "execution_count": 91,
   "metadata": {},
   "outputs": [
    {
     "data": {
      "text/plain": [
       "(476, 640, 3)"
      ]
     },
     "execution_count": 91,
     "metadata": {},
     "output_type": "execute_result"
    }
   ],
   "source": [
    "frame.shape"
   ]
  },
  {
   "cell_type": "code",
   "execution_count": 5,
   "metadata": {},
   "outputs": [],
   "source": [
    "cam.release()"
   ]
  },
  {
   "cell_type": "code",
   "execution_count": 31,
   "metadata": {},
   "outputs": [
    {
     "data": {
      "text/plain": [
       "(1368, 1112, 3)"
      ]
     },
     "execution_count": 31,
     "metadata": {},
     "output_type": "execute_result"
    }
   ],
   "source": [
    "bg=cv.imread('me.jpg')\n",
    "bg.shape"
   ]
  },
  {
   "cell_type": "code",
   "execution_count": 15,
   "metadata": {},
   "outputs": [
    {
     "data": {
      "text/plain": [
       "(640, 480)"
      ]
     },
     "execution_count": 15,
     "metadata": {},
     "output_type": "execute_result"
    }
   ],
   "source": [
    "bg=cv.imread('me.jpg')\n",
    "bg.resize((640,480))\n",
    "bg.shape"
   ]
  },
  {
   "cell_type": "code",
   "execution_count": 14,
   "metadata": {},
   "outputs": [
    {
     "data": {
      "text/plain": [
       "(480, 640, 3)"
      ]
     },
     "execution_count": 14,
     "metadata": {},
     "output_type": "execute_result"
    }
   ],
   "source": [
    "frame.shape"
   ]
  },
  {
   "cell_type": "code",
   "execution_count": 34,
   "metadata": {},
   "outputs": [],
   "source": [
    "cam.release()"
   ]
  },
  {
   "cell_type": "code",
   "execution_count": 32,
   "metadata": {},
   "outputs": [],
   "source": [
    "cam=cv.VideoCapture(0)\n",
    "cam.set(3,640)\n",
    "cam.set(4,480)\n",
    "cv.namedWindow('Trackbars')\n",
    "cv.resizeWindow('Trackbars',640,240)\n",
    "cv.createTrackbar('Hue Min','Trackbars',0,179,empty)\n",
    "cv.createTrackbar('Hue Max','Trackbars',179,179,empty)\n",
    "cv.createTrackbar('Sat Min','Trackbars',0,255,empty)\n",
    "cv.createTrackbar('Sat Max','Trackbars',255,255,empty)\n",
    "cv.createTrackbar('Val Min','Trackbars',0,255,empty)\n",
    "cv.createTrackbar('Val Max','Trackbars',255,255,empty)\n",
    "c=0\n",
    "while True:\n",
    "    frame=cam.read()[1]\n",
    "    frame = cv.flip(frame,1)\n",
    "    h_min=cv.getTrackbarPos('Hue Min','Trackbars')\n",
    "    h_max=cv.getTrackbarPos('Hue Max','Trackbars')\n",
    "    s_min=cv.getTrackbarPos('Sat Min','Trackbars')\n",
    "    s_max=cv.getTrackbarPos('Sat Max','Trackbars')\n",
    "    v_min=cv.getTrackbarPos('Val Min','Trackbars')\n",
    "    v_max=cv.getTrackbarPos('Val Max','Trackbars')\n",
    "    lower=np.array([h_min,s_min,v_min])\n",
    "    upper=np.array([h_max,s_max,v_max])\n",
    "    # lower=np.array([25,62,49])\n",
    "    # upper=np.array([89,199,232])\n",
    "    mask=cv.inRange(frame,lower,upper)\n",
    "    mask=cv.medianBlur(mask,5)  \n",
    "    mask=cv.dilate(mask,(5,5),iterations=2)\n",
    "    cv.imshow('frame',frame)\n",
    "    cv.imshow('mask',mask)\n",
    "    \n",
    "    key=cv.waitKey(30)\n",
    "    if(key==ord('f')):\n",
    "        c+=1\n",
    "        cv.imwrite(f'me{c}.jpg',frame)\n",
    "    if key==ord('q'):\n",
    "        break"
   ]
  },
  {
   "cell_type": "code",
   "execution_count": 55,
   "metadata": {},
   "outputs": [],
   "source": [
    "#cap=cv.VideoCapture(0)\n",
    "#cap.set(3,640)qqqqqqqqqqqqqq\n",
    "#cap.set(4,480)\n",
    "while True:\n",
    "    frame=cv.imread(\"Untitled.png\")\n",
    "    realimg=frame.copy()\n",
    "    # frame=cv.flip(frame,1)\n",
    "    frame=cv.cvtColor(frame,cv.COLOR_BGR2GRAY)\n",
    "    frame=cv.GaussianBlur(frame,(7,7),0)\n",
    "    mask=cv.Canny(frame,100,200)\n",
    "    mask=cv.dilate(mask,(7,7),iterations=3) \n",
    "    er=cv.erode(mask,(7,7),iterations=1)\n",
    "  \n",
    "    cv.imshow('frame',frame)\n",
    "    cv.imshow('mask',mask)\n",
    "    cv.imshow('er',er)\n",
    "    getcountour(er,realimg)\n",
    "    cv.imshow('final',realimg)\n",
    "    \n",
    "    key=cv.waitKey(30)\n",
    "    if key==ord('q'):\n",
    "        break\n",
    "cv.destroyAllWindows()    "
   ]
  },
  {
   "cell_type": "code",
   "execution_count": 54,
   "metadata": {},
   "outputs": [],
   "source": [
    "def getcountour(img,frame):\n",
    "    contours,hierarchy=cv.findContours(img,cv.RETR_EXTERNAL,cv.CHAIN_APPROX_SIMPLE)\n",
    "    for cnt in contours:\n",
    "        area=cv.contourArea(cnt)\n",
    "        if area>500:\n",
    "            #print(area)\n",
    "            cv.drawContours(frame,cnt,-1,(255,255,255),3)\n",
    "            peri=cv.arcLength(cnt,True)\n",
    "            approx=cv.approxPolyDP(cnt,0.02*peri,True)\n",
    "            objcor=len(approx)\n",
    "            x,y,w,h=cv.boundingRect(approx)\n",
    "            if objcor==3:objtype='Triangle'\n",
    "            elif objcor==4:\n",
    "                asp=w/float(h)\n",
    "                if asp>0.95 and asp<1.05:objtype='Square'\n",
    "                else:objtype='Rectangle'\n",
    "            elif objcor>4:objtype='Circle'\n",
    "            else:objtype='None'\n",
    "            # print(objtype)\n",
    "            cv.rectangle(frame,(x,y),(x+w,y+h),(255,255,255),2)\n",
    "            cv.putText(frame,objtype,(x+(w//2)-10,y+(h//2)-10),cv.FONT_HERSHEY_COMPLEX,0.5,(0,0,0),2)\n",
    "            \n"
   ]
  },
  {
   "cell_type": "code",
   "execution_count": 31,
   "metadata": {},
   "outputs": [],
   "source": [
    "cv.destroyAllWindows() "
   ]
  }
 ],
 "metadata": {
  "kernelspec": {
   "display_name": "Python 3",
   "language": "python",
   "name": "python3"
  },
  "language_info": {
   "codemirror_mode": {
    "name": "ipython",
    "version": 3
   },
   "file_extension": ".py",
   "mimetype": "text/x-python",
   "name": "python",
   "nbconvert_exporter": "python",
   "pygments_lexer": "ipython3",
   "version": "3.11.2"
  }
 },
 "nbformat": 4,
 "nbformat_minor": 2
}
